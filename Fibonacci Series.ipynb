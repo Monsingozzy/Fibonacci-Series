{
 "cells": [
  {
   "cell_type": "markdown",
   "metadata": {},
   "source": [
    "# Question 1 : Fibonacci Series"
   ]
  },
  {
   "cell_type": "code",
   "execution_count": null,
   "metadata": {},
   "outputs": [
    {
     "name": "stdout",
     "output_type": "stream",
     "text": [
      "4\n"
     ]
    }
   ],
   "source": [
    "for _ in range(int(input())):  #input from user\n",
    "    a=input()    #store in a\n",
    "    d={}    #empty disct\n",
    "    for i in a:  # access every value \n",
    "        if i in d:  #checking value in dict\n",
    "            d.update({i:d.get(i)+1}) #updating if avalible multitime\n",
    "        else:\n",
    "            d.update({i:1})  #else updating simple \n",
    "    l=[]         #empty array\n",
    "    for i in d.values(): \n",
    "        l.append(i) #every dict value adding in array l\n",
    "    l.sort() # sorting l values\n",
    "    if len(l)<3: #checking if less 3 print dynamic else \n",
    "        print(\"Dynamic\")\n",
    "    else:\n",
    "        if l[-1]==l[-2]+l[-3]: #caluclate logic\n",
    "            print(\"Dynamic\") #satisfied else \n",
    "        else:      \n",
    "            print(\"Not\")#else no"
   ]
  },
  {
   "cell_type": "markdown",
   "metadata": {},
   "source": [
    "## step 1 take input form user also take range for loop \n",
    "\n",
    "## step 2 add in a all user input\n",
    "\n",
    "## step 3 creating empty dict \n",
    "\n",
    "## step 4 next all values accessing and comparing if its in dict or not \n",
    "## if dict then double it \n",
    "##    else \n",
    "##    simply adding avlues \n",
    "\n",
    "## step 5 we create empty array first checking its less 3 then directly we print its dynamic beacuse in qustion mention if less then 3 its dynamic \n",
    "## else \n",
    "\n",
    "## step 6  then we add all value in it  we accessig comparing last -2 index and -3 index and adding if is equal to           len of string \n",
    "    \n",
    "##     then its call dynamic else \n",
    "##     its not"
   ]
  },
  {
   "cell_type": "code",
   "execution_count": null,
   "metadata": {},
   "outputs": [],
   "source": []
  }
 ],
 "metadata": {
  "kernelspec": {
   "display_name": "Python 3",
   "language": "python",
   "name": "python3"
  },
  "language_info": {
   "codemirror_mode": {
    "name": "ipython",
    "version": 3
   },
   "file_extension": ".py",
   "mimetype": "text/x-python",
   "name": "python",
   "nbconvert_exporter": "python",
   "pygments_lexer": "ipython3",
   "version": "3.7.9"
  }
 },
 "nbformat": 4,
 "nbformat_minor": 4
}
